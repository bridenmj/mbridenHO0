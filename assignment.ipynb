{
 "cells": [
  {
   "cell_type": "markdown",
   "id": "cd6a5138-f81a-47c9-852f-7673caf627c0",
   "metadata": {},
   "source": [
    "# Hands-On Assignment 0\n",
    "\n",
    "This file is an iPython notebook, which allows a mix of textual content (with $\\LaTeX$, images, and HTML), editable code, and code output in the browser.\n",
    "\n",
    "For this assignment, our purpose is to make sure you can run the notebooks, edit them, and submit them as assignments for CSE 40.\n",
    "In each hands-on assignment, you will be asked to complete tasks in a notebook that complement the lectures and teach you about the basics of machine learning and data science.\n",
    "After you complete each assignment, you must submit your notebook by running `python3 -m cse40.submit` from your local repository.\n",
    "\n",
    "#### Why Notebooks?\n",
    "\n",
    "As of 2022, notebooks such as this one have found widespread use for sharing code examples and instruction, especially in machine learning.\n",
    "They are not suited to larger software projects, but for short assignments such as the ones in this class, they can work well.\n",
    "\n",
    "#### About Notebook for Assignments\n",
    "\n",
    "Generally, notebooks are organized into \"cells\" that either contain HTML\n",
    "(usually rendered from [markdown](https://daringfireball.net/2004/03/introducing_markdown) with optional [math](https://www.mathjax.org/#demo)),\n",
    "source code (e.g., Python snippets), or code outputs. \n",
    "\n",
    "For hands-on assignments, you will be asked to complete \"Tasks\", denoted with an <span style=\"color: darkorange;\">orange star (★)</span>,\n",
    "usually involving the editing of Python source code cells, which can then be run interactively to generate output in the same notebook.\n",
    "\n",
    "Be sure to refer to [official resources](https://jupyterlab.readthedocs.io/en/stable/) on [iPython notebooks](https://jupyterlab.readthedocs.io/en/stable/user/notebook.html)\n",
    "or the [Jupyter Lab interface](https://jupyterlab.readthedocs.io/en/stable/user/interface.html) for specific questions that you may have."
   ]
  },
  {
   "cell_type": "markdown",
   "id": "c7481677-d99b-484b-9429-112d10c87453",
   "metadata": {},
   "source": [
    "<h3 style=\"color: darkorange\";>★ Task 1</h3>\n",
    "\n",
    "Edit the following function to return `True`."
   ]
  },
  {
   "cell_type": "code",
   "execution_count": null,
   "id": "3e543a4b-2655-4da9-a4f8-b57269d8d2ea",
   "metadata": {},
   "outputs": [],
   "source": [
    "def my_function():\n",
    "    \"\"\"\n",
    "    The output of this function will be tested (it must return True).\n",
    "    \"\"\"\n",
    "\n",
    "    return NotImplemented"
   ]
  },
  {
   "cell_type": "markdown",
   "id": "a8b4605d-578b-4ea6-966b-edb3e7022e6d",
   "metadata": {},
   "source": [
    "After editing the function `my_function()`, run the above code cell (CTRL+Enter), then run the below cell.\n",
    "The below cell should now return `True` instead of `NotImplemented` or raising an exception.\n",
    "\n",
    "Note that by default the last value declared in a cell is printed as output.\n",
    "For example, if we call `my_function()` in the next cell, we don't have to use `print` to see the result:"
   ]
  },
  {
   "cell_type": "code",
   "execution_count": null,
   "id": "1c4b6a21-ae04-4015-ab1b-e81eb2c5d864",
   "metadata": {},
   "outputs": [],
   "source": [
    "my_function()"
   ]
  }
 ],
 "metadata": {
  "kernelspec": {
   "display_name": "Python 3 (ipykernel)",
   "language": "python",
   "name": "python3"
  },
  "language_info": {
   "codemirror_mode": {
    "name": "ipython",
    "version": 3
   },
   "file_extension": ".py",
   "mimetype": "text/x-python",
   "name": "python",
   "nbconvert_exporter": "python",
   "pygments_lexer": "ipython3",
   "version": "3.10.9"
  }
 },
 "nbformat": 4,
 "nbformat_minor": 5
}
